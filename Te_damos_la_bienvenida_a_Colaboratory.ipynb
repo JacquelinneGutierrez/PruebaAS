{
  "cells": [
    {
      "cell_type": "markdown",
      "metadata": {
        "id": "view-in-github",
        "colab_type": "text"
      },
      "source": [
        "<a href=\"https://colab.research.google.com/github/JacquelinneGutierrez/PruebaAS/blob/main/Te_damos_la_bienvenida_a_Colaboratory.ipynb\" target=\"_parent\"><img src=\"https://colab.research.google.com/assets/colab-badge.svg\" alt=\"Open In Colab\"/></a>"
      ]
    },
    {
      "cell_type": "code",
      "execution_count": 31,
      "metadata": {
        "id": "zwFnJsE6vjf8"
      },
      "outputs": [],
      "source": [
        "import pandas as pd"
      ]
    },
    {
      "cell_type": "markdown",
      "source": [
        "# **Tesla**"
      ],
      "metadata": {
        "id": "W3sfC5VSLvAK"
      }
    },
    {
      "cell_type": "markdown",
      "source": [
        "Si hicieramos una suposición de que trabajamos para la empresa Tesla de automoviles. El trabajo nuestro consistirá en verificar como se han comportado las ventas anuales en estados unidos, luego hacer un análisis de esas ventas. Para ello extraemos los datos mediante la biblioteca yfinance, que nos permitirá extraer de Yahoo finanzas datos e información de las ventas."
      ],
      "metadata": {
        "id": "XfK2YLNGKn5t"
      }
    },
    {
      "cell_type": "markdown",
      "source": [
        "Instalamos la librería yfinance\n",
        "Esta librería permite descargar datos históricos financieros desde Yahoo Finanzas. Podremos acceder de un modo sencillo a una interesante gama de datos."
      ],
      "metadata": {
        "id": "3fiKBaB1M9G-"
      }
    },
    {
      "cell_type": "code",
      "source": [
        "!pip install yfinance\n",
        "!pip install yahoofinancials\n"
      ],
      "metadata": {
        "id": "a5JEy_TI0wNX",
        "outputId": "030852f8-78cd-4951-a27f-4b980f7874dc",
        "colab": {
          "base_uri": "https://localhost:8080/"
        }
      },
      "execution_count": 9,
      "outputs": [
        {
          "output_type": "stream",
          "name": "stdout",
          "text": [
            "Requirement already satisfied: yfinance in /usr/local/lib/python3.10/dist-packages (0.2.38)\n",
            "Requirement already satisfied: pandas>=1.3.0 in /usr/local/lib/python3.10/dist-packages (from yfinance) (2.0.3)\n",
            "Requirement already satisfied: numpy>=1.16.5 in /usr/local/lib/python3.10/dist-packages (from yfinance) (1.25.2)\n",
            "Requirement already satisfied: requests>=2.31 in /usr/local/lib/python3.10/dist-packages (from yfinance) (2.31.0)\n",
            "Requirement already satisfied: multitasking>=0.0.7 in /usr/local/lib/python3.10/dist-packages (from yfinance) (0.0.11)\n",
            "Requirement already satisfied: lxml>=4.9.1 in /usr/local/lib/python3.10/dist-packages (from yfinance) (4.9.4)\n",
            "Requirement already satisfied: appdirs>=1.4.4 in /usr/local/lib/python3.10/dist-packages (from yfinance) (1.4.4)\n",
            "Requirement already satisfied: pytz>=2022.5 in /usr/local/lib/python3.10/dist-packages (from yfinance) (2023.4)\n",
            "Requirement already satisfied: frozendict>=2.3.4 in /usr/local/lib/python3.10/dist-packages (from yfinance) (2.4.4)\n",
            "Requirement already satisfied: peewee>=3.16.2 in /usr/local/lib/python3.10/dist-packages (from yfinance) (3.17.5)\n",
            "Requirement already satisfied: beautifulsoup4>=4.11.1 in /usr/local/lib/python3.10/dist-packages (from yfinance) (4.12.3)\n",
            "Requirement already satisfied: html5lib>=1.1 in /usr/local/lib/python3.10/dist-packages (from yfinance) (1.1)\n",
            "Requirement already satisfied: soupsieve>1.2 in /usr/local/lib/python3.10/dist-packages (from beautifulsoup4>=4.11.1->yfinance) (2.5)\n",
            "Requirement already satisfied: six>=1.9 in /usr/local/lib/python3.10/dist-packages (from html5lib>=1.1->yfinance) (1.16.0)\n",
            "Requirement already satisfied: webencodings in /usr/local/lib/python3.10/dist-packages (from html5lib>=1.1->yfinance) (0.5.1)\n",
            "Requirement already satisfied: python-dateutil>=2.8.2 in /usr/local/lib/python3.10/dist-packages (from pandas>=1.3.0->yfinance) (2.8.2)\n",
            "Requirement already satisfied: tzdata>=2022.1 in /usr/local/lib/python3.10/dist-packages (from pandas>=1.3.0->yfinance) (2024.1)\n",
            "Requirement already satisfied: charset-normalizer<4,>=2 in /usr/local/lib/python3.10/dist-packages (from requests>=2.31->yfinance) (3.3.2)\n",
            "Requirement already satisfied: idna<4,>=2.5 in /usr/local/lib/python3.10/dist-packages (from requests>=2.31->yfinance) (3.7)\n",
            "Requirement already satisfied: urllib3<3,>=1.21.1 in /usr/local/lib/python3.10/dist-packages (from requests>=2.31->yfinance) (2.0.7)\n",
            "Requirement already satisfied: certifi>=2017.4.17 in /usr/local/lib/python3.10/dist-packages (from requests>=2.31->yfinance) (2024.2.2)\n",
            "Collecting yahoofinancials\n",
            "  Downloading yahoofinancials-1.20.tar.gz (51 kB)\n",
            "\u001b[2K     \u001b[90m━━━━━━━━━━━━━━━━━━━━━━━━━━━━━━━━━━━━━━━━\u001b[0m \u001b[32m51.9/51.9 kB\u001b[0m \u001b[31m685.2 kB/s\u001b[0m eta \u001b[36m0:00:00\u001b[0m\n",
            "\u001b[?25h  Preparing metadata (setup.py) ... \u001b[?25l\u001b[?25hdone\n",
            "Requirement already satisfied: pytz>=2022.5 in /usr/local/lib/python3.10/dist-packages (from yahoofinancials) (2023.4)\n",
            "Requirement already satisfied: requests>=2.31 in /usr/local/lib/python3.10/dist-packages (from yahoofinancials) (2.31.0)\n",
            "Requirement already satisfied: appdirs>=1.4.4 in /usr/local/lib/python3.10/dist-packages (from yahoofinancials) (1.4.4)\n",
            "Requirement already satisfied: frozendict>=2.3.4 in /usr/local/lib/python3.10/dist-packages (from yahoofinancials) (2.4.4)\n",
            "Requirement already satisfied: peewee>=3.16.2 in /usr/local/lib/python3.10/dist-packages (from yahoofinancials) (3.17.5)\n",
            "Requirement already satisfied: beautifulsoup4>=4.11.1 in /usr/local/lib/python3.10/dist-packages (from yahoofinancials) (4.12.3)\n",
            "Requirement already satisfied: lxml>=4.9.1 in /usr/local/lib/python3.10/dist-packages (from yahoofinancials) (4.9.4)\n",
            "Requirement already satisfied: soupsieve>1.2 in /usr/local/lib/python3.10/dist-packages (from beautifulsoup4>=4.11.1->yahoofinancials) (2.5)\n",
            "Requirement already satisfied: charset-normalizer<4,>=2 in /usr/local/lib/python3.10/dist-packages (from requests>=2.31->yahoofinancials) (3.3.2)\n",
            "Requirement already satisfied: idna<4,>=2.5 in /usr/local/lib/python3.10/dist-packages (from requests>=2.31->yahoofinancials) (3.7)\n",
            "Requirement already satisfied: urllib3<3,>=1.21.1 in /usr/local/lib/python3.10/dist-packages (from requests>=2.31->yahoofinancials) (2.0.7)\n",
            "Requirement already satisfied: certifi>=2017.4.17 in /usr/local/lib/python3.10/dist-packages (from requests>=2.31->yahoofinancials) (2024.2.2)\n",
            "Building wheels for collected packages: yahoofinancials\n",
            "  Building wheel for yahoofinancials (setup.py) ... \u001b[?25l\u001b[?25hdone\n",
            "  Created wheel for yahoofinancials: filename=yahoofinancials-1.20-py3-none-any.whl size=38617 sha256=af637e8bc224b0427b2aff28baae75342f9b8be55944f8d7bd79e3c427a72982\n",
            "  Stored in directory: /root/.cache/pip/wheels/cc/6b/dd/7ff776de4ebf7b144bb9562a813be59d0108306f368af9b637\n",
            "Successfully built yahoofinancials\n",
            "Installing collected packages: yahoofinancials\n",
            "Successfully installed yahoofinancials-1.20\n"
          ]
        }
      ]
    },
    {
      "cell_type": "code",
      "source": [
        "!pip install pandas"
      ],
      "metadata": {
        "id": "r0z9c6BOBOjf",
        "outputId": "237186c1-1ee1-4900-a5b2-fd364718139e",
        "colab": {
          "base_uri": "https://localhost:8080/"
        }
      },
      "execution_count": 1,
      "outputs": [
        {
          "output_type": "stream",
          "name": "stdout",
          "text": [
            "Requirement already satisfied: pandas in /usr/local/lib/python3.10/dist-packages (2.0.3)\n",
            "Requirement already satisfied: python-dateutil>=2.8.2 in /usr/local/lib/python3.10/dist-packages (from pandas) (2.8.2)\n",
            "Requirement already satisfied: pytz>=2020.1 in /usr/local/lib/python3.10/dist-packages (from pandas) (2023.4)\n",
            "Requirement already satisfied: tzdata>=2022.1 in /usr/local/lib/python3.10/dist-packages (from pandas) (2024.1)\n",
            "Requirement already satisfied: numpy>=1.21.0 in /usr/local/lib/python3.10/dist-packages (from pandas) (1.25.2)\n",
            "Requirement already satisfied: six>=1.5 in /usr/local/lib/python3.10/dist-packages (from python-dateutil>=2.8.2->pandas) (1.16.0)\n"
          ]
        }
      ]
    },
    {
      "cell_type": "markdown",
      "source": [
        "# **Importamos las librerías \"yfinance\" y \"pandas\"**"
      ],
      "metadata": {
        "id": "jZljIT7ONS-z"
      }
    },
    {
      "cell_type": "code",
      "source": [
        "import yfinance as yf\n",
        "import pandas as pd"
      ],
      "metadata": {
        "id": "0Wmsf43w0fqX"
      },
      "execution_count": 35,
      "outputs": []
    },
    {
      "cell_type": "markdown",
      "source": [
        "Hacemos uso de la libreria yfinance para extraer datos ventas\n",
        "Utilizando el método Ticker() podemos extraer información bursátil pasandole como parámetro las siglas identificativas de con las que a la empresa es identificada. Utilizaremos la de Tesla, sus siglas son  TSLA."
      ],
      "metadata": {
        "id": "8e2tH1TbNhCA"
      }
    },
    {
      "cell_type": "code",
      "source": [
        " tesla = yf.Ticker(\"TSLA\")"
      ],
      "metadata": {
        "id": "_MjB8S8l18HD"
      },
      "execution_count": 8,
      "outputs": []
    },
    {
      "cell_type": "markdown",
      "source": [
        "Usando el atributo info podemos extraer información de las ventas de Tesla en un diccionario de Python."
      ],
      "metadata": {
        "id": "9-U6VzKxOBq9"
      }
    },
    {
      "cell_type": "code",
      "source": [
        "tesla_info=tesla.info\n",
        "tesla_info #mostramos lo que tiene la variable"
      ],
      "metadata": {
        "id": "WIqVkfPeCH8c",
        "outputId": "b68d7ba2-5750-4585-8ec4-d43cf7f9ac9c",
        "colab": {
          "base_uri": "https://localhost:8080/"
        }
      },
      "execution_count": 10,
      "outputs": [
        {
          "output_type": "execute_result",
          "data": {
            "text/plain": [
              "{'address1': '1 Tesla Road',\n",
              " 'city': 'Austin',\n",
              " 'state': 'TX',\n",
              " 'zip': '78725',\n",
              " 'country': 'United States',\n",
              " 'phone': '512 516 8177',\n",
              " 'website': 'https://www.tesla.com',\n",
              " 'industry': 'Auto Manufacturers',\n",
              " 'industryKey': 'auto-manufacturers',\n",
              " 'industryDisp': 'Auto Manufacturers',\n",
              " 'sector': 'Consumer Cyclical',\n",
              " 'sectorKey': 'consumer-cyclical',\n",
              " 'sectorDisp': 'Consumer Cyclical',\n",
              " 'longBusinessSummary': 'Tesla, Inc. designs, develops, manufactures, leases, and sells electric vehicles, and energy generation and storage systems in the United States, China, and internationally. The company operates in two segments, Automotive, and Energy Generation and Storage. The Automotive segment offers electric vehicles, as well as sells automotive regulatory credits; and non-warranty after-sales vehicle, used vehicles, body shop and parts, supercharging, retail merchandise, and vehicle insurance services. This segment also provides sedans and sport utility vehicles through direct and used vehicle sales, a network of Tesla Superchargers, and in-app upgrades; purchase financing and leasing services; services for electric vehicles through its company-owned service locations and Tesla mobile service technicians; and vehicle limited warranties and extended service plans. The Energy Generation and Storage segment engages in the design, manufacture, installation, sale, and leasing of solar energy generation and energy storage products, and related services to residential, commercial, and industrial customers and utilities through its website, stores, and galleries, as well as through a network of channel partners; and provision of service and repairs to its energy product customers, including under warranty, as well as various financing options to its solar customers. The company was formerly known as Tesla Motors, Inc. and changed its name to Tesla, Inc. in February 2017. Tesla, Inc. was incorporated in 2003 and is headquartered in Austin, Texas.',\n",
              " 'fullTimeEmployees': 140473,\n",
              " 'companyOfficers': [{'maxAge': 1,\n",
              "   'name': 'Mr. Elon R. Musk',\n",
              "   'age': 51,\n",
              "   'title': 'Technoking of Tesla, CEO & Director',\n",
              "   'yearBorn': 1972,\n",
              "   'fiscalYear': 2023,\n",
              "   'exercisedValue': 1861335,\n",
              "   'unexercisedValue': 68433694720},\n",
              "  {'maxAge': 1,\n",
              "   'name': 'Mr. Vaibhav  Taneja',\n",
              "   'age': 45,\n",
              "   'title': 'Chief Financial Officer',\n",
              "   'yearBorn': 1978,\n",
              "   'fiscalYear': 2023,\n",
              "   'totalPay': 278000,\n",
              "   'exercisedValue': 8517957,\n",
              "   'unexercisedValue': 202075632},\n",
              "  {'maxAge': 1,\n",
              "   'name': 'Mr. Xiaotong  Zhu',\n",
              "   'age': 43,\n",
              "   'title': 'Senior Vice President of Automotive',\n",
              "   'yearBorn': 1980,\n",
              "   'fiscalYear': 2023,\n",
              "   'totalPay': 926877,\n",
              "   'exercisedValue': 0,\n",
              "   'unexercisedValue': 344144320},\n",
              "  {'maxAge': 1,\n",
              "   'name': 'Mr. Martin  Viecha',\n",
              "   'title': 'Vice President of Investor Relations',\n",
              "   'fiscalYear': 2023,\n",
              "   'exercisedValue': 0,\n",
              "   'unexercisedValue': 0},\n",
              "  {'maxAge': 1,\n",
              "   'name': 'Brian  Scelfo',\n",
              "   'title': 'Senior Director of Corporate Development',\n",
              "   'fiscalYear': 2023,\n",
              "   'exercisedValue': 0,\n",
              "   'unexercisedValue': 0},\n",
              "  {'maxAge': 1,\n",
              "   'name': 'Mr. Franz  von Holzhausen',\n",
              "   'title': 'Chief Designer',\n",
              "   'fiscalYear': 2023,\n",
              "   'exercisedValue': 0,\n",
              "   'unexercisedValue': 0},\n",
              "  {'maxAge': 1,\n",
              "   'name': 'Mr. John  Walker',\n",
              "   'age': 60,\n",
              "   'title': 'Vice President of Sales - North America',\n",
              "   'yearBorn': 1963,\n",
              "   'fiscalYear': 2023,\n",
              "   'totalPay': 121550,\n",
              "   'exercisedValue': 0,\n",
              "   'unexercisedValue': 0},\n",
              "  {'maxAge': 1,\n",
              "   'name': 'Mr. Peter  Bannon',\n",
              "   'title': 'Chip Architect',\n",
              "   'fiscalYear': 2023,\n",
              "   'exercisedValue': 0,\n",
              "   'unexercisedValue': 0},\n",
              "  {'maxAge': 1,\n",
              "   'name': 'Mr. Turner  Caldwell',\n",
              "   'title': 'Engineering Manager',\n",
              "   'fiscalYear': 2023,\n",
              "   'exercisedValue': 0,\n",
              "   'unexercisedValue': 0},\n",
              "  {'maxAge': 1,\n",
              "   'name': 'Mr. Rodney D. Westmoreland Jr.',\n",
              "   'title': 'Director of Construction Management',\n",
              "   'fiscalYear': 2023,\n",
              "   'exercisedValue': 0,\n",
              "   'unexercisedValue': 0}],\n",
              " 'auditRisk': 9,\n",
              " 'boardRisk': 9,\n",
              " 'compensationRisk': 8,\n",
              " 'shareHolderRightsRisk': 9,\n",
              " 'overallRisk': 9,\n",
              " 'governanceEpochDate': 1714521600,\n",
              " 'compensationAsOfEpochDate': 1703980800,\n",
              " 'maxAge': 86400,\n",
              " 'priceHint': 2,\n",
              " 'previousClose': 174.95,\n",
              " 'open': 175.49,\n",
              " 'dayLow': 174.74,\n",
              " 'dayHigh': 186.875,\n",
              " 'regularMarketPreviousClose': 174.95,\n",
              " 'regularMarketOpen': 175.49,\n",
              " 'regularMarketDayLow': 174.74,\n",
              " 'regularMarketDayHigh': 186.875,\n",
              " 'beta': 2.408,\n",
              " 'trailingPE': 44.855774,\n",
              " 'forwardPE': 56.374626,\n",
              " 'volume': 113414537,\n",
              " 'regularMarketVolume': 113414537,\n",
              " 'averageVolume': 97494048,\n",
              " 'averageVolume10days': 76533300,\n",
              " 'averageDailyVolume10Day': 76533300,\n",
              " 'bid': 186.64,\n",
              " 'ask': 186.72,\n",
              " 'bidSize': 100,\n",
              " 'askSize': 100,\n",
              " 'marketCap': 595104694272,\n",
              " 'fiftyTwoWeekLow': 138.8,\n",
              " 'fiftyTwoWeekHigh': 299.29,\n",
              " 'priceToSalesTrailing12Months': 6.28112,\n",
              " 'fiftyDayAverage': 170.9766,\n",
              " 'twoHundredDayAverage': 214.40144,\n",
              " 'currency': 'USD',\n",
              " 'enterpriseValue': 578954002432,\n",
              " 'profitMargins': 0.14368,\n",
              " 'floatShares': 2772400120,\n",
              " 'sharesOutstanding': 3189199872,\n",
              " 'sharesShort': 107440586,\n",
              " 'sharesShortPriorMonth': 107481521,\n",
              " 'sharesShortPreviousMonthDate': 1711584000,\n",
              " 'dateShortInterest': 1714435200,\n",
              " 'sharesPercentSharesOut': 0.0337,\n",
              " 'heldPercentInsiders': 0.12987,\n",
              " 'heldPercentInstitutions': 0.45905,\n",
              " 'shortRatio': 0.95,\n",
              " 'shortPercentOfFloat': 0.0387,\n",
              " 'impliedSharesOutstanding': 3189199872,\n",
              " 'bookValue': 20.188,\n",
              " 'priceToBook': 9.243115,\n",
              " 'lastFiscalYearEnd': 1703980800,\n",
              " 'nextFiscalYearEnd': 1735603200,\n",
              " 'mostRecentQuarter': 1711843200,\n",
              " 'earningsQuarterlyGrowth': -0.551,\n",
              " 'netIncomeToCommon': 13651999744,\n",
              " 'trailingEps': 4.16,\n",
              " 'forwardEps': 3.31,\n",
              " 'pegRatio': 4.52,\n",
              " 'lastSplitFactor': '3:1',\n",
              " 'lastSplitDate': 1661385600,\n",
              " 'enterpriseToRevenue': 6.111,\n",
              " 'enterpriseToEbitda': 47.204,\n",
              " '52WeekChange': 0.020229578,\n",
              " 'SandP52WeekChange': 0.29309833,\n",
              " 'exchange': 'NMS',\n",
              " 'quoteType': 'EQUITY',\n",
              " 'symbol': 'TSLA',\n",
              " 'underlyingSymbol': 'TSLA',\n",
              " 'shortName': 'Tesla, Inc.',\n",
              " 'longName': 'Tesla, Inc.',\n",
              " 'firstTradeDateEpochUtc': 1277818200,\n",
              " 'timeZoneFullName': 'America/New_York',\n",
              " 'timeZoneShortName': 'EDT',\n",
              " 'uuid': 'ec367bc4-f92c-397c-ac81-bf7b43cffaf7',\n",
              " 'messageBoardId': 'finmb_27444752',\n",
              " 'gmtOffSetMilliseconds': -14400000,\n",
              " 'currentPrice': 186.6,\n",
              " 'targetHighPrice': 320.0,\n",
              " 'targetLowPrice': 22.86,\n",
              " 'targetMeanPrice': 178.97,\n",
              " 'targetMedianPrice': 177.5,\n",
              " 'recommendationMean': 2.7,\n",
              " 'recommendationKey': 'hold',\n",
              " 'numberOfAnalystOpinions': 40,\n",
              " 'totalCash': 26862999552,\n",
              " 'totalCashPerShare': 8.423,\n",
              " 'ebitda': 12264999936,\n",
              " 'totalDebt': 9911000064,\n",
              " 'quickRatio': 1.05,\n",
              " 'currentRatio': 1.716,\n",
              " 'totalRevenue': 94745001984,\n",
              " 'debtToEquity': 15.206,\n",
              " 'revenuePerShare': 29.803,\n",
              " 'returnOnAssets': 0.04717,\n",
              " 'returnOnEquity': 0.23736,\n",
              " 'freeCashflow': -633124992,\n",
              " 'operatingCashflow': 10984999936,\n",
              " 'earningsGrowth': -0.534,\n",
              " 'revenueGrowth': -0.087,\n",
              " 'grossMargins': 0.17778999,\n",
              " 'ebitdaMargins': 0.12945,\n",
              " 'operatingMargins': 0.054970004,\n",
              " 'financialCurrency': 'USD',\n",
              " 'trailingPegRatio': 3.0965}"
            ]
          },
          "metadata": {},
          "execution_count": 10
        }
      ]
    },
    {
      "cell_type": "markdown",
      "source": [
        "Como ya tenemos un diccionario, podemos extraer la información a partir del campo clave. Extraemos por ejemplo el país mediante la clave tesla_info['country']"
      ],
      "metadata": {
        "id": "XW0ajmkxOYsp"
      }
    },
    {
      "cell_type": "code",
      "source": [
        "tesla_info['country']"
      ],
      "metadata": {
        "id": "6yyZjrcLEHwR",
        "outputId": "71a233cc-eab9-49c7-d1dc-754c7f46a17c",
        "colab": {
          "base_uri": "https://localhost:8080/",
          "height": 35
        }
      },
      "execution_count": 16,
      "outputs": [
        {
          "output_type": "execute_result",
          "data": {
            "text/plain": [
              "'United States'"
            ],
            "application/vnd.google.colaboratory.intrinsic+json": {
              "type": "string"
            }
          },
          "metadata": {},
          "execution_count": 16
        }
      ]
    },
    {
      "cell_type": "markdown",
      "source": [
        "Utilizamos history() para poder recoger el historial de datos de la base. Utilizamos (max) para recoge el histórico completo desde la primera venta."
      ],
      "metadata": {
        "id": "46KVK-DLOwwm"
      }
    },
    {
      "cell_type": "code",
      "source": [
        "historico_tesla = tesla.history(period=\"max\")\n",
        "print(historico_tesla)"
      ],
      "metadata": {
        "id": "uB3_yzqDFKX7",
        "outputId": "ca45eada-0a8d-4745-86d5-c1b0fca7fb45",
        "colab": {
          "base_uri": "https://localhost:8080/"
        }
      },
      "execution_count": 17,
      "outputs": [
        {
          "output_type": "stream",
          "name": "stdout",
          "text": [
            "                                 Open        High         Low       Close  \\\n",
            "Date                                                                        \n",
            "2010-06-29 00:00:00-04:00    1.266667    1.666667    1.169333    1.592667   \n",
            "2010-06-30 00:00:00-04:00    1.719333    2.028000    1.553333    1.588667   \n",
            "2010-07-01 00:00:00-04:00    1.666667    1.728000    1.351333    1.464000   \n",
            "2010-07-02 00:00:00-04:00    1.533333    1.540000    1.247333    1.280000   \n",
            "2010-07-06 00:00:00-04:00    1.333333    1.333333    1.055333    1.074000   \n",
            "...                               ...         ...         ...         ...   \n",
            "2024-05-15 00:00:00-04:00  179.899994  180.000000  173.110001  173.990005   \n",
            "2024-05-16 00:00:00-04:00  174.100006  175.789993  171.429993  174.839996   \n",
            "2024-05-17 00:00:00-04:00  173.550003  179.630005  172.750000  177.460007   \n",
            "2024-05-20 00:00:00-04:00  177.559998  177.750000  173.520004  174.949997   \n",
            "2024-05-21 00:00:00-04:00  175.509995  186.880005  174.710007  186.600006   \n",
            "\n",
            "                              Volume  Dividends  Stock Splits  \n",
            "Date                                                           \n",
            "2010-06-29 00:00:00-04:00  281494500        0.0           0.0  \n",
            "2010-06-30 00:00:00-04:00  257806500        0.0           0.0  \n",
            "2010-07-01 00:00:00-04:00  123282000        0.0           0.0  \n",
            "2010-07-02 00:00:00-04:00   77097000        0.0           0.0  \n",
            "2010-07-06 00:00:00-04:00  103003500        0.0           0.0  \n",
            "...                              ...        ...           ...  \n",
            "2024-05-15 00:00:00-04:00   79663000        0.0           0.0  \n",
            "2024-05-16 00:00:00-04:00   59812200        0.0           0.0  \n",
            "2024-05-17 00:00:00-04:00   77445800        0.0           0.0  \n",
            "2024-05-20 00:00:00-04:00   61727400        0.0           0.0  \n",
            "2024-05-21 00:00:00-04:00  114711300        0.0           0.0  \n",
            "\n",
            "[3498 rows x 7 columns]\n"
          ]
        }
      ]
    },
    {
      "cell_type": "markdown",
      "source": [
        " Utilizamos head() para ver las primeras líneas o las ultimas respectivamente. Como parámetro ponemos el número de lineas a visualizar, si no se le proporciona este parámetro por defecto muestra cinco líneas. En nuestro caso pondremos la visualización de los 10 primeras lineas de venta."
      ],
      "metadata": {
        "id": "oIajZyD2PMuL"
      }
    },
    {
      "cell_type": "code",
      "source": [
        "historico_tesla.head()"
      ],
      "metadata": {
        "id": "7jvFFHPDFbcX",
        "outputId": "c3e6773c-8cf1-4d09-f521-1ec3dd43340a",
        "colab": {
          "base_uri": "https://localhost:8080/",
          "height": 238
        }
      },
      "execution_count": 18,
      "outputs": [
        {
          "output_type": "execute_result",
          "data": {
            "text/plain": [
              "                               Open      High       Low     Close     Volume  \\\n",
              "Date                                                                           \n",
              "2010-06-29 00:00:00-04:00  1.266667  1.666667  1.169333  1.592667  281494500   \n",
              "2010-06-30 00:00:00-04:00  1.719333  2.028000  1.553333  1.588667  257806500   \n",
              "2010-07-01 00:00:00-04:00  1.666667  1.728000  1.351333  1.464000  123282000   \n",
              "2010-07-02 00:00:00-04:00  1.533333  1.540000  1.247333  1.280000   77097000   \n",
              "2010-07-06 00:00:00-04:00  1.333333  1.333333  1.055333  1.074000  103003500   \n",
              "\n",
              "                           Dividends  Stock Splits  \n",
              "Date                                                \n",
              "2010-06-29 00:00:00-04:00        0.0           0.0  \n",
              "2010-06-30 00:00:00-04:00        0.0           0.0  \n",
              "2010-07-01 00:00:00-04:00        0.0           0.0  \n",
              "2010-07-02 00:00:00-04:00        0.0           0.0  \n",
              "2010-07-06 00:00:00-04:00        0.0           0.0  "
            ],
            "text/html": [
              "\n",
              "  <div id=\"df-4e306d93-05aa-43ce-9702-547e646024dc\" class=\"colab-df-container\">\n",
              "    <div>\n",
              "<style scoped>\n",
              "    .dataframe tbody tr th:only-of-type {\n",
              "        vertical-align: middle;\n",
              "    }\n",
              "\n",
              "    .dataframe tbody tr th {\n",
              "        vertical-align: top;\n",
              "    }\n",
              "\n",
              "    .dataframe thead th {\n",
              "        text-align: right;\n",
              "    }\n",
              "</style>\n",
              "<table border=\"1\" class=\"dataframe\">\n",
              "  <thead>\n",
              "    <tr style=\"text-align: right;\">\n",
              "      <th></th>\n",
              "      <th>Open</th>\n",
              "      <th>High</th>\n",
              "      <th>Low</th>\n",
              "      <th>Close</th>\n",
              "      <th>Volume</th>\n",
              "      <th>Dividends</th>\n",
              "      <th>Stock Splits</th>\n",
              "    </tr>\n",
              "    <tr>\n",
              "      <th>Date</th>\n",
              "      <th></th>\n",
              "      <th></th>\n",
              "      <th></th>\n",
              "      <th></th>\n",
              "      <th></th>\n",
              "      <th></th>\n",
              "      <th></th>\n",
              "    </tr>\n",
              "  </thead>\n",
              "  <tbody>\n",
              "    <tr>\n",
              "      <th>2010-06-29 00:00:00-04:00</th>\n",
              "      <td>1.266667</td>\n",
              "      <td>1.666667</td>\n",
              "      <td>1.169333</td>\n",
              "      <td>1.592667</td>\n",
              "      <td>281494500</td>\n",
              "      <td>0.0</td>\n",
              "      <td>0.0</td>\n",
              "    </tr>\n",
              "    <tr>\n",
              "      <th>2010-06-30 00:00:00-04:00</th>\n",
              "      <td>1.719333</td>\n",
              "      <td>2.028000</td>\n",
              "      <td>1.553333</td>\n",
              "      <td>1.588667</td>\n",
              "      <td>257806500</td>\n",
              "      <td>0.0</td>\n",
              "      <td>0.0</td>\n",
              "    </tr>\n",
              "    <tr>\n",
              "      <th>2010-07-01 00:00:00-04:00</th>\n",
              "      <td>1.666667</td>\n",
              "      <td>1.728000</td>\n",
              "      <td>1.351333</td>\n",
              "      <td>1.464000</td>\n",
              "      <td>123282000</td>\n",
              "      <td>0.0</td>\n",
              "      <td>0.0</td>\n",
              "    </tr>\n",
              "    <tr>\n",
              "      <th>2010-07-02 00:00:00-04:00</th>\n",
              "      <td>1.533333</td>\n",
              "      <td>1.540000</td>\n",
              "      <td>1.247333</td>\n",
              "      <td>1.280000</td>\n",
              "      <td>77097000</td>\n",
              "      <td>0.0</td>\n",
              "      <td>0.0</td>\n",
              "    </tr>\n",
              "    <tr>\n",
              "      <th>2010-07-06 00:00:00-04:00</th>\n",
              "      <td>1.333333</td>\n",
              "      <td>1.333333</td>\n",
              "      <td>1.055333</td>\n",
              "      <td>1.074000</td>\n",
              "      <td>103003500</td>\n",
              "      <td>0.0</td>\n",
              "      <td>0.0</td>\n",
              "    </tr>\n",
              "  </tbody>\n",
              "</table>\n",
              "</div>\n",
              "    <div class=\"colab-df-buttons\">\n",
              "\n",
              "  <div class=\"colab-df-container\">\n",
              "    <button class=\"colab-df-convert\" onclick=\"convertToInteractive('df-4e306d93-05aa-43ce-9702-547e646024dc')\"\n",
              "            title=\"Convert this dataframe to an interactive table.\"\n",
              "            style=\"display:none;\">\n",
              "\n",
              "  <svg xmlns=\"http://www.w3.org/2000/svg\" height=\"24px\" viewBox=\"0 -960 960 960\">\n",
              "    <path d=\"M120-120v-720h720v720H120Zm60-500h600v-160H180v160Zm220 220h160v-160H400v160Zm0 220h160v-160H400v160ZM180-400h160v-160H180v160Zm440 0h160v-160H620v160ZM180-180h160v-160H180v160Zm440 0h160v-160H620v160Z\"/>\n",
              "  </svg>\n",
              "    </button>\n",
              "\n",
              "  <style>\n",
              "    .colab-df-container {\n",
              "      display:flex;\n",
              "      gap: 12px;\n",
              "    }\n",
              "\n",
              "    .colab-df-convert {\n",
              "      background-color: #E8F0FE;\n",
              "      border: none;\n",
              "      border-radius: 50%;\n",
              "      cursor: pointer;\n",
              "      display: none;\n",
              "      fill: #1967D2;\n",
              "      height: 32px;\n",
              "      padding: 0 0 0 0;\n",
              "      width: 32px;\n",
              "    }\n",
              "\n",
              "    .colab-df-convert:hover {\n",
              "      background-color: #E2EBFA;\n",
              "      box-shadow: 0px 1px 2px rgba(60, 64, 67, 0.3), 0px 1px 3px 1px rgba(60, 64, 67, 0.15);\n",
              "      fill: #174EA6;\n",
              "    }\n",
              "\n",
              "    .colab-df-buttons div {\n",
              "      margin-bottom: 4px;\n",
              "    }\n",
              "\n",
              "    [theme=dark] .colab-df-convert {\n",
              "      background-color: #3B4455;\n",
              "      fill: #D2E3FC;\n",
              "    }\n",
              "\n",
              "    [theme=dark] .colab-df-convert:hover {\n",
              "      background-color: #434B5C;\n",
              "      box-shadow: 0px 1px 3px 1px rgba(0, 0, 0, 0.15);\n",
              "      filter: drop-shadow(0px 1px 2px rgba(0, 0, 0, 0.3));\n",
              "      fill: #FFFFFF;\n",
              "    }\n",
              "  </style>\n",
              "\n",
              "    <script>\n",
              "      const buttonEl =\n",
              "        document.querySelector('#df-4e306d93-05aa-43ce-9702-547e646024dc button.colab-df-convert');\n",
              "      buttonEl.style.display =\n",
              "        google.colab.kernel.accessAllowed ? 'block' : 'none';\n",
              "\n",
              "      async function convertToInteractive(key) {\n",
              "        const element = document.querySelector('#df-4e306d93-05aa-43ce-9702-547e646024dc');\n",
              "        const dataTable =\n",
              "          await google.colab.kernel.invokeFunction('convertToInteractive',\n",
              "                                                    [key], {});\n",
              "        if (!dataTable) return;\n",
              "\n",
              "        const docLinkHtml = 'Like what you see? Visit the ' +\n",
              "          '<a target=\"_blank\" href=https://colab.research.google.com/notebooks/data_table.ipynb>data table notebook</a>'\n",
              "          + ' to learn more about interactive tables.';\n",
              "        element.innerHTML = '';\n",
              "        dataTable['output_type'] = 'display_data';\n",
              "        await google.colab.output.renderOutput(dataTable, element);\n",
              "        const docLink = document.createElement('div');\n",
              "        docLink.innerHTML = docLinkHtml;\n",
              "        element.appendChild(docLink);\n",
              "      }\n",
              "    </script>\n",
              "  </div>\n",
              "\n",
              "\n",
              "<div id=\"df-c823704d-0124-4145-967d-8c04cda32226\">\n",
              "  <button class=\"colab-df-quickchart\" onclick=\"quickchart('df-c823704d-0124-4145-967d-8c04cda32226')\"\n",
              "            title=\"Suggest charts\"\n",
              "            style=\"display:none;\">\n",
              "\n",
              "<svg xmlns=\"http://www.w3.org/2000/svg\" height=\"24px\"viewBox=\"0 0 24 24\"\n",
              "     width=\"24px\">\n",
              "    <g>\n",
              "        <path d=\"M19 3H5c-1.1 0-2 .9-2 2v14c0 1.1.9 2 2 2h14c1.1 0 2-.9 2-2V5c0-1.1-.9-2-2-2zM9 17H7v-7h2v7zm4 0h-2V7h2v10zm4 0h-2v-4h2v4z\"/>\n",
              "    </g>\n",
              "</svg>\n",
              "  </button>\n",
              "\n",
              "<style>\n",
              "  .colab-df-quickchart {\n",
              "      --bg-color: #E8F0FE;\n",
              "      --fill-color: #1967D2;\n",
              "      --hover-bg-color: #E2EBFA;\n",
              "      --hover-fill-color: #174EA6;\n",
              "      --disabled-fill-color: #AAA;\n",
              "      --disabled-bg-color: #DDD;\n",
              "  }\n",
              "\n",
              "  [theme=dark] .colab-df-quickchart {\n",
              "      --bg-color: #3B4455;\n",
              "      --fill-color: #D2E3FC;\n",
              "      --hover-bg-color: #434B5C;\n",
              "      --hover-fill-color: #FFFFFF;\n",
              "      --disabled-bg-color: #3B4455;\n",
              "      --disabled-fill-color: #666;\n",
              "  }\n",
              "\n",
              "  .colab-df-quickchart {\n",
              "    background-color: var(--bg-color);\n",
              "    border: none;\n",
              "    border-radius: 50%;\n",
              "    cursor: pointer;\n",
              "    display: none;\n",
              "    fill: var(--fill-color);\n",
              "    height: 32px;\n",
              "    padding: 0;\n",
              "    width: 32px;\n",
              "  }\n",
              "\n",
              "  .colab-df-quickchart:hover {\n",
              "    background-color: var(--hover-bg-color);\n",
              "    box-shadow: 0 1px 2px rgba(60, 64, 67, 0.3), 0 1px 3px 1px rgba(60, 64, 67, 0.15);\n",
              "    fill: var(--button-hover-fill-color);\n",
              "  }\n",
              "\n",
              "  .colab-df-quickchart-complete:disabled,\n",
              "  .colab-df-quickchart-complete:disabled:hover {\n",
              "    background-color: var(--disabled-bg-color);\n",
              "    fill: var(--disabled-fill-color);\n",
              "    box-shadow: none;\n",
              "  }\n",
              "\n",
              "  .colab-df-spinner {\n",
              "    border: 2px solid var(--fill-color);\n",
              "    border-color: transparent;\n",
              "    border-bottom-color: var(--fill-color);\n",
              "    animation:\n",
              "      spin 1s steps(1) infinite;\n",
              "  }\n",
              "\n",
              "  @keyframes spin {\n",
              "    0% {\n",
              "      border-color: transparent;\n",
              "      border-bottom-color: var(--fill-color);\n",
              "      border-left-color: var(--fill-color);\n",
              "    }\n",
              "    20% {\n",
              "      border-color: transparent;\n",
              "      border-left-color: var(--fill-color);\n",
              "      border-top-color: var(--fill-color);\n",
              "    }\n",
              "    30% {\n",
              "      border-color: transparent;\n",
              "      border-left-color: var(--fill-color);\n",
              "      border-top-color: var(--fill-color);\n",
              "      border-right-color: var(--fill-color);\n",
              "    }\n",
              "    40% {\n",
              "      border-color: transparent;\n",
              "      border-right-color: var(--fill-color);\n",
              "      border-top-color: var(--fill-color);\n",
              "    }\n",
              "    60% {\n",
              "      border-color: transparent;\n",
              "      border-right-color: var(--fill-color);\n",
              "    }\n",
              "    80% {\n",
              "      border-color: transparent;\n",
              "      border-right-color: var(--fill-color);\n",
              "      border-bottom-color: var(--fill-color);\n",
              "    }\n",
              "    90% {\n",
              "      border-color: transparent;\n",
              "      border-bottom-color: var(--fill-color);\n",
              "    }\n",
              "  }\n",
              "</style>\n",
              "\n",
              "  <script>\n",
              "    async function quickchart(key) {\n",
              "      const quickchartButtonEl =\n",
              "        document.querySelector('#' + key + ' button');\n",
              "      quickchartButtonEl.disabled = true;  // To prevent multiple clicks.\n",
              "      quickchartButtonEl.classList.add('colab-df-spinner');\n",
              "      try {\n",
              "        const charts = await google.colab.kernel.invokeFunction(\n",
              "            'suggestCharts', [key], {});\n",
              "      } catch (error) {\n",
              "        console.error('Error during call to suggestCharts:', error);\n",
              "      }\n",
              "      quickchartButtonEl.classList.remove('colab-df-spinner');\n",
              "      quickchartButtonEl.classList.add('colab-df-quickchart-complete');\n",
              "    }\n",
              "    (() => {\n",
              "      let quickchartButtonEl =\n",
              "        document.querySelector('#df-c823704d-0124-4145-967d-8c04cda32226 button');\n",
              "      quickchartButtonEl.style.display =\n",
              "        google.colab.kernel.accessAllowed ? 'block' : 'none';\n",
              "    })();\n",
              "  </script>\n",
              "</div>\n",
              "    </div>\n",
              "  </div>\n"
            ],
            "application/vnd.google.colaboratory.intrinsic+json": {
              "type": "dataframe",
              "variable_name": "historico_tesla",
              "summary": "{\n  \"name\": \"historico_tesla\",\n  \"rows\": 3498,\n  \"fields\": [\n    {\n      \"column\": \"Date\",\n      \"properties\": {\n        \"dtype\": \"date\",\n        \"min\": \"2010-06-29 00:00:00-04:00\",\n        \"max\": \"2024-05-21 00:00:00-04:00\",\n        \"num_unique_values\": 3498,\n        \"samples\": [\n          \"2017-01-18 00:00:00-05:00\",\n          \"2020-04-01 00:00:00-04:00\",\n          \"2019-05-13 00:00:00-04:00\"\n        ],\n        \"semantic_type\": \"\",\n        \"description\": \"\"\n      }\n    },\n    {\n      \"column\": \"Open\",\n      \"properties\": {\n        \"dtype\": \"number\",\n        \"std\": 101.99507127856074,\n        \"min\": 1.0759999752044678,\n        \"max\": 411.4700012207031,\n        \"num_unique_values\": 3194,\n        \"samples\": [\n          7.084000110626221,\n          2.109333038330078,\n          15.876667022705078\n        ],\n        \"semantic_type\": \"\",\n        \"description\": \"\"\n      }\n    },\n    {\n      \"column\": \"High\",\n      \"properties\": {\n        \"dtype\": \"number\",\n        \"std\": 104.24405701877869,\n        \"min\": 1.108667016029358,\n        \"max\": 414.4966735839844,\n        \"num_unique_values\": 3187,\n        \"samples\": [\n          13.265999794006348,\n          14.893333435058594,\n          15.136667251586914\n        ],\n        \"semantic_type\": \"\",\n        \"description\": \"\"\n      }\n    },\n    {\n      \"column\": \"Low\",\n      \"properties\": {\n        \"dtype\": \"number\",\n        \"std\": 99.5204636929736,\n        \"min\": 0.9986670017242432,\n        \"max\": 405.6666564941406,\n        \"num_unique_values\": 3203,\n        \"samples\": [\n          250.49000549316406,\n          1.8506669998168945,\n          14.720000267028809\n        ],\n        \"semantic_type\": \"\",\n        \"description\": \"\"\n      }\n    },\n    {\n      \"column\": \"Close\",\n      \"properties\": {\n        \"dtype\": \"number\",\n        \"std\": 101.91280669513611,\n        \"min\": 1.053333044052124,\n        \"max\": 409.9700012207031,\n        \"num_unique_values\": 3298,\n        \"samples\": [\n          15.16333293914795,\n          13.049332618713379,\n          185.10000610351562\n        ],\n        \"semantic_type\": \"\",\n        \"description\": \"\"\n      }\n    },\n    {\n      \"column\": \"Volume\",\n      \"properties\": {\n        \"dtype\": \"number\",\n        \"std\": 79046689,\n        \"min\": 1777500,\n        \"max\": 914082000,\n        \"num_unique_values\": 3467,\n        \"samples\": [\n          66589500,\n          99216000,\n          191100000\n        ],\n        \"semantic_type\": \"\",\n        \"description\": \"\"\n      }\n    },\n    {\n      \"column\": \"Dividends\",\n      \"properties\": {\n        \"dtype\": \"number\",\n        \"std\": 0.0,\n        \"min\": 0.0,\n        \"max\": 0.0,\n        \"num_unique_values\": 1,\n        \"samples\": [\n          0.0\n        ],\n        \"semantic_type\": \"\",\n        \"description\": \"\"\n      }\n    },\n    {\n      \"column\": \"Stock Splits\",\n      \"properties\": {\n        \"dtype\": \"number\",\n        \"std\": 0.09857680978091608,\n        \"min\": 0.0,\n        \"max\": 5.0,\n        \"num_unique_values\": 3,\n        \"samples\": [\n          0.0\n        ],\n        \"semantic_type\": \"\",\n        \"description\": \"\"\n      }\n    }\n  ]\n}"
            }
          },
          "metadata": {},
          "execution_count": 18
        }
      ]
    },
    {
      "cell_type": "code",
      "source": [
        "print(historico_tesla[\"Close\"].head(10))"
      ],
      "metadata": {
        "id": "u29CdBKtF7PF",
        "outputId": "9324a819-171f-451d-c68e-0b57ec59e782",
        "colab": {
          "base_uri": "https://localhost:8080/"
        }
      },
      "execution_count": 19,
      "outputs": [
        {
          "output_type": "stream",
          "name": "stdout",
          "text": [
            "Date\n",
            "2010-06-29 00:00:00-04:00    1.592667\n",
            "2010-06-30 00:00:00-04:00    1.588667\n",
            "2010-07-01 00:00:00-04:00    1.464000\n",
            "2010-07-02 00:00:00-04:00    1.280000\n",
            "2010-07-06 00:00:00-04:00    1.074000\n",
            "2010-07-07 00:00:00-04:00    1.053333\n",
            "2010-07-08 00:00:00-04:00    1.164000\n",
            "2010-07-09 00:00:00-04:00    1.160000\n",
            "2010-07-12 00:00:00-04:00    1.136667\n",
            "2010-07-13 00:00:00-04:00    1.209333\n",
            "Name: Close, dtype: float64\n"
          ]
        }
      ]
    },
    {
      "cell_type": "code",
      "source": [
        "historico_tesla.reset_index(inplace=True)"
      ],
      "metadata": {
        "id": "B_UFcRsNGD-F"
      },
      "execution_count": 20,
      "outputs": []
    },
    {
      "cell_type": "markdown",
      "source": [
        "Graficamos las ventas por fecha. Usamos el campo Close y el campo Date:"
      ],
      "metadata": {
        "id": "-Lf5nBriPz2E"
      }
    },
    {
      "cell_type": "code",
      "source": [
        "historico_tesla.plot(x=\"Date\", y=\"Close\")"
      ],
      "metadata": {
        "id": "ARGsjB6JGKpZ",
        "outputId": "9f37cb6e-03b1-42c7-bd04-2c8cb1589af0",
        "colab": {
          "base_uri": "https://localhost:8080/",
          "height": 439
        }
      },
      "execution_count": 21,
      "outputs": [
        {
          "output_type": "execute_result",
          "data": {
            "text/plain": [
              "<Axes: xlabel='Date'>"
            ]
          },
          "metadata": {},
          "execution_count": 21
        },
        {
          "output_type": "display_data",
          "data": {
            "text/plain": [
              "<Figure size 640x480 with 1 Axes>"
            ],
            "image/png": "[encoded data removed]"
          },
          "metadata": {}
        }
      ]
    }
  ],
  "metadata": {
    "colab": {
      "name": "Te damos la bienvenida a Colaboratory",
      "provenance": [],
      "include_colab_link": true
    },
    "kernelspec": {
      "display_name": "Python 3",
      "name": "python3"
    }
  },
  "nbformat": 4,
  "nbformat_minor": 0
}